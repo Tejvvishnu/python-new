{
  "nbformat": 4,
  "nbformat_minor": 0,
  "metadata": {
    "colab": {
      "name": "set.ipynb",
      "provenance": [],
      "authorship_tag": "ABX9TyMauPCt+69X2OpGc2+WIT8n",
      "include_colab_link": true
    },
    "kernelspec": {
      "name": "python3",
      "display_name": "Python 3"
    },
    "language_info": {
      "name": "python"
    }
  },
  "cells": [
    {
      "cell_type": "markdown",
      "metadata": {
        "id": "view-in-github",
        "colab_type": "text"
      },
      "source": [
        "<a href=\"https://colab.research.google.com/github/Tejvvishnu/python-new/blob/module-1/set.ipynb\" target=\"_parent\"><img src=\"https://colab.research.google.com/assets/colab-badge.svg\" alt=\"Open In Colab\"/></a>"
      ]
    },
    {
      "cell_type": "code",
      "execution_count": null,
      "metadata": {
        "colab": {
          "base_uri": "https://localhost:8080/"
        },
        "id": "m0gMbh7jHyXK",
        "outputId": "c223e876-364a-4d5c-9354-61c29b15c812"
      },
      "outputs": [
        {
          "output_type": "stream",
          "name": "stdout",
          "text": [
            "{'2', '1', '3'}\n",
            "<class 'set'>\n"
          ]
        }
      ],
      "source": [
        "tej={\"1\",\"2\",\"3\"}\n",
        "print(tej)\n",
        "print(type(tej))"
      ]
    },
    {
      "cell_type": "code",
      "source": [
        "tej={\"1\",\"2\",\"3\"}\n",
        "for x in tej:\n",
        "    print(x)"
      ],
      "metadata": {
        "colab": {
          "base_uri": "https://localhost:8080/"
        },
        "id": "DcPM5pQVPPyU",
        "outputId": "37e8cf67-c2ad-4947-f4a3-5f9e60259a26"
      },
      "execution_count": null,
      "outputs": [
        {
          "output_type": "stream",
          "name": "stdout",
          "text": [
            "2\n",
            "1\n",
            "3\n"
          ]
        }
      ]
    },
    {
      "cell_type": "code",
      "source": [
        "tej={\"1\",\"2\",\"3\"}\n",
        "tej.add(\"4\")\n",
        "print(tej)"
      ],
      "metadata": {
        "colab": {
          "base_uri": "https://localhost:8080/"
        },
        "id": "bQaREkc9Polq",
        "outputId": "f0f1ba52-1000-4ff4-94c0-c4f05ff03f97"
      },
      "execution_count": null,
      "outputs": [
        {
          "output_type": "stream",
          "name": "stdout",
          "text": [
            "{'2', '1', '3', '4'}\n"
          ]
        }
      ]
    },
    {
      "cell_type": "code",
      "source": [
        "tej={\"1\",\"2\",\"3\"}\n",
        "teja = {\"5\",\"7\"}\n",
        "teja.update(tej)\n",
        "print(teja)"
      ],
      "metadata": {
        "colab": {
          "base_uri": "https://localhost:8080/"
        },
        "id": "kAIOwEhzQJ7J",
        "outputId": "c5bc68ed-47c4-4a7e-e4cc-1be97a72ea9b"
      },
      "execution_count": null,
      "outputs": [
        {
          "output_type": "stream",
          "name": "stdout",
          "text": [
            "{'2', '1', '5', '3', '7'}\n"
          ]
        }
      ]
    },
    {
      "cell_type": "code",
      "source": [
        "tej={\"1\",\"2\",\"3\"}\n",
        "tej.remove(\"3\")\n",
        "print(tej)"
      ],
      "metadata": {
        "colab": {
          "base_uri": "https://localhost:8080/"
        },
        "id": "jWwDgiG6RV65",
        "outputId": "94afefc1-c75c-4912-c47d-bbfdf356a898"
      },
      "execution_count": null,
      "outputs": [
        {
          "output_type": "stream",
          "name": "stdout",
          "text": [
            "{'2', '1'}\n"
          ]
        }
      ]
    },
    {
      "cell_type": "code",
      "source": [
        "tej={\"1\",\"2\",\"3\"}\n",
        "tej.discard(\"3\")\n",
        "print(tej)"
      ],
      "metadata": {
        "colab": {
          "base_uri": "https://localhost:8080/"
        },
        "id": "IrexveK0YQbS",
        "outputId": "296698d5-6d61-4bf9-89f6-1911470b393c"
      },
      "execution_count": null,
      "outputs": [
        {
          "output_type": "stream",
          "name": "stdout",
          "text": [
            "{'2', '1'}\n"
          ]
        }
      ]
    },
    {
      "cell_type": "code",
      "source": [
        "tej={\"1\",\"2\",\"3\"}\n",
        "tej.clear()\n",
        "print(tej)"
      ],
      "metadata": {
        "colab": {
          "base_uri": "https://localhost:8080/"
        },
        "id": "Eumfy2ZtY3Zx",
        "outputId": "a637e98c-8d0d-4626-85b2-7c0f8c9aaabe"
      },
      "execution_count": null,
      "outputs": [
        {
          "output_type": "stream",
          "name": "stdout",
          "text": [
            "set()\n"
          ]
        }
      ]
    },
    {
      "cell_type": "code",
      "source": [
        "tej={\"1\",\"2\",\"3\"}\n",
        "teja = {\"5\",\"7\"}\n",
        "set3=tej.union(teja)\n",
        "print(set3)"
      ],
      "metadata": {
        "colab": {
          "base_uri": "https://localhost:8080/"
        },
        "id": "8SCZW6I7Q8ar",
        "outputId": "e56914cc-1086-4cce-dfba-831f2caf4981"
      },
      "execution_count": null,
      "outputs": [
        {
          "output_type": "stream",
          "name": "stdout",
          "text": [
            "{'2', '1', '5', '3', '7'}\n"
          ]
        }
      ]
    }
  ]
}