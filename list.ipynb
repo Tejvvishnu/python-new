{
  "nbformat": 4,
  "nbformat_minor": 0,
  "metadata": {
    "colab": {
      "name": "list.ipynb",
      "provenance": [],
      "authorship_tag": "ABX9TyMLoYIvKoMgRyZRiv/MdkjB",
      "include_colab_link": true
    },
    "kernelspec": {
      "name": "python3",
      "display_name": "Python 3"
    },
    "language_info": {
      "name": "python"
    }
  },
  "cells": [
    {
      "cell_type": "markdown",
      "metadata": {
        "id": "view-in-github",
        "colab_type": "text"
      },
      "source": [
        "<a href=\"https://colab.research.google.com/github/Tejvvishnu/python-new/blob/module-1/list.ipynb\" target=\"_parent\"><img src=\"https://colab.research.google.com/assets/colab-badge.svg\" alt=\"Open In Colab\"/></a>"
      ]
    },
    {
      "cell_type": "code",
      "execution_count": null,
      "metadata": {
        "colab": {
          "base_uri": "https://localhost:8080/"
        },
        "id": "RJIS9eCpV1DE",
        "outputId": "9a3361a2-6867-473d-c247-7095ca1c707d"
      },
      "outputs": [
        {
          "output_type": "stream",
          "name": "stdout",
          "text": [
            "['january', 'febrauary', 'march', 'april', 'may', 'June']\n",
            "<class 'list'>\n",
            "['febrauary', 'march']\n",
            "febrauary\n",
            "march\n",
            "June\n",
            "may\n"
          ]
        }
      ],
      "source": [
        "a=[\"january\",\"febrauary\",\"march\",\"april\",\"may\",\"June\"]\n",
        "print(a)\n",
        "print(type(a))\n",
        "print(a[1:3])\n",
        "print(a[1])\n",
        "print(a[2])\n",
        "print(a[-1])\n",
        "print(a[-2])\n"
      ]
    },
    {
      "cell_type": "code",
      "source": [
        ""
      ],
      "metadata": {
        "id": "fIz8Hii02XTV"
      },
      "execution_count": null,
      "outputs": []
    },
    {
      "cell_type": "markdown",
      "source": [
        "adding list items"
      ],
      "metadata": {
        "id": "rFYWek1nZx0h"
      }
    },
    {
      "cell_type": "code",
      "source": [
        "a=[\"january\",\"febrauary\",\"march\",\"april\",\"may\",\"June\"]\n",
        "print(a)\n",
        "print(type(a))\n",
        "a.append(\"july\")\n",
        "print(a)\n",
        "a.insert(7,\"august\")\n",
        "print(a)\n",
        "a.remove(\"january\")\n",
        "print(a)\n",
        "a.remove(a[4])\n",
        "print(a)\n"
      ],
      "metadata": {
        "colab": {
          "base_uri": "https://localhost:8080/"
        },
        "id": "tNV5iVrKZ2XR",
        "outputId": "35bb00e3-c5de-4769-90b3-df057718ee05"
      },
      "execution_count": null,
      "outputs": [
        {
          "output_type": "stream",
          "name": "stdout",
          "text": [
            "['january', 'febrauary', 'march', 'april', 'may', 'June']\n",
            "<class 'list'>\n",
            "['january', 'febrauary', 'march', 'april', 'may', 'June', 'july']\n",
            "['january', 'febrauary', 'march', 'april', 'may', 'June', 'july', 'august']\n",
            "['febrauary', 'march', 'april', 'may', 'June', 'july', 'august']\n",
            "['febrauary', 'march', 'april', 'may', 'july', 'august']\n"
          ]
        }
      ]
    },
    {
      "cell_type": "markdown",
      "source": [
        "pop/del"
      ],
      "metadata": {
        "id": "5DlM-5PRfel4"
      }
    },
    {
      "cell_type": "code",
      "source": [
        "a=[\"january\",\"febrauary\",\"march\",\"april\",\"may\",\"June\"]\n",
        "print(a)\n",
        "print(type(a))\n",
        "a.pop(1)\n",
        "print(a)"
      ],
      "metadata": {
        "colab": {
          "base_uri": "https://localhost:8080/"
        },
        "id": "B9yOiYmAfmeg",
        "outputId": "9aaff130-7b59-42ae-d5e6-8f673fed9140"
      },
      "execution_count": null,
      "outputs": [
        {
          "output_type": "stream",
          "name": "stdout",
          "text": [
            "['january', 'febrauary', 'march', 'april', 'may', 'June']\n",
            "<class 'list'>\n",
            "['january', 'march', 'april', 'may', 'June']\n"
          ]
        }
      ]
    },
    {
      "cell_type": "markdown",
      "source": [
        "sorting"
      ],
      "metadata": {
        "id": "Bixceznbhr8Q"
      }
    },
    {
      "cell_type": "code",
      "source": [
        "num=[10,20,3,5,]\n",
        "num.sort()\n",
        "print(num)\n"
      ],
      "metadata": {
        "colab": {
          "base_uri": "https://localhost:8080/"
        },
        "id": "_bibOSXqhtUa",
        "outputId": "58c63b1c-6071-45a8-fcab-787068c0a87b"
      },
      "execution_count": null,
      "outputs": [
        {
          "output_type": "stream",
          "name": "stdout",
          "text": [
            "[3, 5, 10, 20]\n"
          ]
        }
      ]
    },
    {
      "cell_type": "markdown",
      "source": [
        "tuple"
      ],
      "metadata": {
        "id": "WDtiSDEbeogh"
      }
    },
    {
      "cell_type": "code",
      "source": [
        "a=\"january\",\"febrauary\",\"march\",\"april\",\"may\",\"June\"\n",
        "print(a)\n",
        "print(type(a))"
      ],
      "metadata": {
        "colab": {
          "base_uri": "https://localhost:8080/"
        },
        "id": "DgfZRD45ep7K",
        "outputId": "85404b50-1943-478d-8dca-20e87f362a2f"
      },
      "execution_count": null,
      "outputs": [
        {
          "output_type": "stream",
          "name": "stdout",
          "text": [
            "('january', 'febrauary', 'march', 'april', 'may', 'June')\n",
            "<class 'tuple'>\n"
          ]
        }
      ]
    },
    {
      "cell_type": "markdown",
      "source": [
        "condition"
      ],
      "metadata": {
        "id": "fX_7CsOEnlPg"
      }
    },
    {
      "cell_type": "code",
      "source": [
        ""
      ],
      "metadata": {
        "id": "L715zyRknnC3"
      },
      "execution_count": null,
      "outputs": []
    }
  ]
}