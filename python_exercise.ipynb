{
  "cells": [
    {
      "cell_type": "markdown",
      "metadata": {
        "id": "view-in-github",
        "colab_type": "text"
      },
      "source": [
        "<a href=\"https://colab.research.google.com/github/Tejvvishnu/python-new/blob/module-1/python_exercise.ipynb\" target=\"_parent\"><img src=\"https://colab.research.google.com/assets/colab-badge.svg\" alt=\"Open In Colab\"/></a>"
      ]
    },
    {
      "cell_type": "markdown",
      "id": "a2ca8798",
      "metadata": {
        "id": "a2ca8798"
      },
      "source": [
        "## avg of three numbers"
      ]
    },
    {
      "cell_type": "code",
      "execution_count": null,
      "id": "20e2740a",
      "metadata": {
        "id": "20e2740a",
        "outputId": "41a99e9c-1d40-45cd-8f01-d2cf32735b4f"
      },
      "outputs": [
        {
          "name": "stdout",
          "output_type": "stream",
          "text": [
            "2.0\n",
            "<class 'float'>\n"
          ]
        }
      ],
      "source": [
        "x=1\n",
        "y=2\n",
        "z=3\n",
        "avg=(x+y+z)/3\n",
        "print(avg)\n",
        "print(type(avg))"
      ]
    },
    {
      "cell_type": "markdown",
      "id": "56c68ba4",
      "metadata": {
        "id": "56c68ba4"
      },
      "source": [
        "## multipication of three numbers\n"
      ]
    },
    {
      "cell_type": "code",
      "execution_count": null,
      "id": "e779ff50",
      "metadata": {
        "id": "e779ff50",
        "outputId": "e69fbdea-509e-43c7-9c16-8e0c0e0dc0c0"
      },
      "outputs": [
        {
          "name": "stdout",
          "output_type": "stream",
          "text": [
            "250\n",
            "<class 'int'>\n"
          ]
        }
      ],
      "source": [
        "a=5\n",
        "b=5\n",
        "c=10\n",
        "mul=a*b*c\n",
        "print(mul)\n",
        "print(type(mul))"
      ]
    },
    {
      "cell_type": "markdown",
      "id": "a28e9d63",
      "metadata": {
        "id": "a28e9d63"
      },
      "source": [
        "## dynamic addition of two numbers\n"
      ]
    },
    {
      "cell_type": "code",
      "execution_count": null,
      "id": "c0e21e05",
      "metadata": {
        "id": "c0e21e05",
        "outputId": "2eaf7882-d9a4-4aa1-ac59-a1e0929fb0d7"
      },
      "outputs": [
        {
          "name": "stdout",
          "output_type": "stream",
          "text": [
            "enter a number20\n",
            "enter a number30\n",
            "50\n"
          ]
        }
      ],
      "source": [
        "a=int(input(\"enter a number\"))\n",
        "b=int(input(\"enter a number\"))\n",
        "c=a+b\n",
        "print(c)"
      ]
    },
    {
      "cell_type": "markdown",
      "id": "d70ceccf",
      "metadata": {
        "id": "d70ceccf"
      },
      "source": [
        "## multipliction of three numbers"
      ]
    },
    {
      "cell_type": "code",
      "execution_count": null,
      "id": "b227c4ea",
      "metadata": {
        "id": "b227c4ea",
        "outputId": "4c2218f0-62f7-4e08-8ed4-10b6a2c88c03"
      },
      "outputs": [
        {
          "name": "stdout",
          "output_type": "stream",
          "text": [
            "enter a number20\n",
            "enter a number30\n",
            "enter a number10\n",
            "6000\n"
          ]
        }
      ],
      "source": [
        "a=int(input(\"enter a number\"))\n",
        "b=int(input(\"enter a number\"))\n",
        "c=int(input(\"enter a number\"))\n",
        "d=a*b*c\n",
        "print(d)\n"
      ]
    },
    {
      "cell_type": "code",
      "execution_count": null,
      "id": "5aa46bfe",
      "metadata": {
        "id": "5aa46bfe"
      },
      "outputs": [],
      "source": [
        ""
      ]
    },
    {
      "cell_type": "markdown",
      "id": "1f2b70e1",
      "metadata": {
        "id": "1f2b70e1"
      },
      "source": [
        "## average of three numbers\n"
      ]
    },
    {
      "cell_type": "code",
      "execution_count": null,
      "id": "4a2721be",
      "metadata": {
        "id": "4a2721be",
        "outputId": "8da36db9-e4e5-4556-9360-acb028d7cc47"
      },
      "outputs": [
        {
          "name": "stdout",
          "output_type": "stream",
          "text": [
            "enter a number20\n",
            "enter a number30\n",
            "enter a number30\n",
            "26.666666666666668\n"
          ]
        }
      ],
      "source": [
        "a=int(input(\"enter a number\"))\n",
        "b=int(input(\"enter a number\"))\n",
        "c=int(input(\"enter a number\"))\n",
        "d=(a+b+c)/3\n",
        "print(d)"
      ]
    },
    {
      "cell_type": "markdown",
      "id": "58df3fcb",
      "metadata": {
        "id": "58df3fcb"
      },
      "source": [
        "## swap of two numbers\n"
      ]
    },
    {
      "cell_type": "code",
      "execution_count": null,
      "id": "4b672bae",
      "metadata": {
        "id": "4b672bae",
        "outputId": "974a8a7c-6f70-41f6-8c34-65cd5c7aeacc"
      },
      "outputs": [
        {
          "name": "stdout",
          "output_type": "stream",
          "text": [
            "x= 10\n",
            "y= 5\n"
          ]
        }
      ],
      "source": [
        "x=5\n",
        "y=10\n",
        "x = x+y\n",
        "y = x-y\n",
        "x = x-y\n",
        "print(\"x=\",x)\n",
        "print(\"y=\",y)"
      ]
    },
    {
      "cell_type": "markdown",
      "id": "28fe3f17",
      "metadata": {
        "id": "28fe3f17"
      },
      "source": [
        "## converting data types\n",
        "int to float"
      ]
    },
    {
      "cell_type": "code",
      "execution_count": null,
      "id": "59f0ee80",
      "metadata": {
        "id": "59f0ee80",
        "outputId": "6b9425d7-00eb-4d91-c367-250fc414e6da"
      },
      "outputs": [
        {
          "name": "stdout",
          "output_type": "stream",
          "text": [
            "<class 'int'>\n",
            "2.0\n",
            "<class 'float'>\n"
          ]
        }
      ],
      "source": [
        "a=2\n",
        "print(type(a))\n",
        "b=float(a)\n",
        "print(b)\n",
        "print(type(b))"
      ]
    },
    {
      "cell_type": "markdown",
      "id": "d75fe4cb",
      "metadata": {
        "id": "d75fe4cb"
      },
      "source": [
        "## converting data types¶\n",
        "int to float"
      ]
    },
    {
      "cell_type": "code",
      "execution_count": null,
      "id": "8abf3359",
      "metadata": {
        "id": "8abf3359",
        "outputId": "191904b0-475b-42dc-cf74-c3a4203f1c2f"
      },
      "outputs": [
        {
          "name": "stdout",
          "output_type": "stream",
          "text": [
            "<class 'float'>\n",
            "22\n",
            "<class 'int'>\n"
          ]
        }
      ],
      "source": [
        "a=22.00\n",
        "print(type(a))\n",
        "b=int(a)\n",
        "print(b)\n",
        "print(type(b))"
      ]
    },
    {
      "cell_type": "markdown",
      "id": "55b54332",
      "metadata": {
        "id": "55b54332"
      },
      "source": [
        "## int to string"
      ]
    },
    {
      "cell_type": "code",
      "execution_count": null,
      "id": "3de7879a",
      "metadata": {
        "id": "3de7879a",
        "outputId": "247314a6-8843-408a-b52f-038040cb97ef"
      },
      "outputs": [
        {
          "name": "stdout",
          "output_type": "stream",
          "text": [
            "<class 'int'>\n",
            "22\n",
            "<class 'str'>\n"
          ]
        }
      ],
      "source": [
        "a=22\n",
        "print(type(a))\n",
        "b=str(a)\n",
        "print(b)\n",
        "print(type(b))"
      ]
    },
    {
      "cell_type": "markdown",
      "id": "14c435ab",
      "metadata": {
        "id": "14c435ab"
      },
      "source": [
        "## string to int"
      ]
    },
    {
      "cell_type": "code",
      "execution_count": null,
      "id": "6e6d1f50",
      "metadata": {
        "id": "6e6d1f50",
        "outputId": "688e52a4-dff1-436a-eee8-6f3b7b06e714"
      },
      "outputs": [
        {
          "name": "stdout",
          "output_type": "stream",
          "text": [
            "<class 'str'>\n",
            "22\n",
            "<class 'int'>\n"
          ]
        }
      ],
      "source": [
        "a=\"22\"\n",
        "print(type(a))\n",
        "b=int(a)\n",
        "print(b)\n",
        "print(type(b))"
      ]
    },
    {
      "cell_type": "code",
      "execution_count": null,
      "id": "bd7aadb5",
      "metadata": {
        "id": "bd7aadb5",
        "outputId": "b501e771-3da7-4183-8399-863e86a04571"
      },
      "outputs": [
        {
          "name": "stdout",
          "output_type": "stream",
          "text": [
            "True\n",
            "<class 'int'>\n"
          ]
        }
      ],
      "source": [
        "a=20\n",
        "print(bool(a))\n",
        "print(type(a))"
      ]
    },
    {
      "cell_type": "markdown",
      "id": "b716fbc0",
      "metadata": {
        "id": "b716fbc0"
      },
      "source": [
        "boolean expressions"
      ]
    },
    {
      "cell_type": "code",
      "execution_count": null,
      "id": "38e8fb7d",
      "metadata": {
        "id": "38e8fb7d",
        "outputId": "3cbc9199-7ac3-4446-a8ef-00655f598c5d"
      },
      "outputs": [
        {
          "name": "stdout",
          "output_type": "stream",
          "text": [
            "False\n",
            "<class 'bool'>\n"
          ]
        }
      ],
      "source": [
        "a=10\n",
        "b=20\n",
        "c=a>b\n",
        "print(bool(c))\n",
        "print(type(c))"
      ]
    },
    {
      "cell_type": "markdown",
      "id": "9201a4fb",
      "metadata": {
        "id": "9201a4fb"
      },
      "source": [
        "boolean expressions"
      ]
    },
    {
      "cell_type": "code",
      "execution_count": null,
      "id": "48afd6bd",
      "metadata": {
        "id": "48afd6bd",
        "outputId": "73a491b9-174d-4561-968b-8ef81d7279a7"
      },
      "outputs": [
        {
          "name": "stdout",
          "output_type": "stream",
          "text": [
            "False\n",
            "<class 'bool'>\n"
          ]
        }
      ],
      "source": [
        "a=10\n",
        "b=20\n",
        "c=a>b\n",
        "print(bool(c))\n",
        "print(type(c))"
      ]
    },
    {
      "cell_type": "markdown",
      "id": "9c032620",
      "metadata": {
        "id": "9c032620"
      },
      "source": [
        ""
      ]
    },
    {
      "cell_type": "markdown",
      "id": "564fa019",
      "metadata": {
        "id": "564fa019"
      },
      "source": [
        " boolean expressions"
      ]
    },
    {
      "cell_type": "code",
      "execution_count": null,
      "id": "149f2682",
      "metadata": {
        "id": "149f2682",
        "outputId": "6d4ea1e1-4d6a-4033-e090-858b51af0d40"
      },
      "outputs": [
        {
          "name": "stdout",
          "output_type": "stream",
          "text": [
            "True\n",
            "True\n",
            "<class 'int'>\n"
          ]
        }
      ],
      "source": [
        "a=bool(10)\n",
        "print(bool(c))\n",
        "b=20\n",
        "print(bool(b))\n",
        "print(type(b))"
      ]
    },
    {
      "cell_type": "code",
      "execution_count": null,
      "id": "786abf62",
      "metadata": {
        "id": "786abf62",
        "outputId": "e14d5fc9-1291-46e6-c227-19c9955a951f"
      },
      "outputs": [
        {
          "name": "stdout",
          "output_type": "stream",
          "text": [
            "True\n"
          ]
        }
      ],
      "source": [
        "a=20\n",
        "b=10\n",
        "c=print(a>b)"
      ]
    },
    {
      "cell_type": "code",
      "execution_count": null,
      "id": "fb2dc3a5",
      "metadata": {
        "id": "fb2dc3a5",
        "outputId": "294a1cfb-3255-4591-c3e1-71a908f32240"
      },
      "outputs": [
        {
          "name": "stdout",
          "output_type": "stream",
          "text": [
            "<class 'bool'>\n",
            "<class 'str'>\n"
          ]
        }
      ],
      "source": [
        "a=bool(10)\n",
        "print(type(a))\n",
        "b=\"20\"\n",
        "print(type(b))"
      ]
    },
    {
      "cell_type": "code",
      "execution_count": null,
      "id": "902c62fb",
      "metadata": {
        "id": "902c62fb",
        "outputId": "4e6a506a-1855-467b-d70a-0ea3eeb41fe3"
      },
      "outputs": [
        {
          "name": "stdout",
          "output_type": "stream",
          "text": [
            "{'january', 'may', 'febrauary', 'march', 'april', 'June'}\n",
            "<class 'set'>\n"
          ]
        }
      ],
      "source": [
        "a={\"january\",\"febrauary\",\"march\",\"april\",\"may\",\"June\"}\n",
        "print(a)\n",
        "print(type(a))"
      ]
    },
    {
      "cell_type": "code",
      "execution_count": null,
      "id": "427bb300",
      "metadata": {
        "scrolled": true,
        "id": "427bb300",
        "outputId": "683d1d4c-a537-4751-833e-d131e7fa99f4"
      },
      "outputs": [
        {
          "name": "stdout",
          "output_type": "stream",
          "text": [
            "['january', 'febrauary', 'march', 'april', 'may', 'June']\n",
            "<class 'list'>\n"
          ]
        }
      ],
      "source": [
        "a=[\"january\",\"febrauary\",\"march\",\"april\",\"may\",\"June\"]\n",
        "print(a)\n",
        "print(type(a))"
      ]
    },
    {
      "cell_type": "code",
      "execution_count": null,
      "id": "068e73ff",
      "metadata": {
        "id": "068e73ff",
        "outputId": "d1a7942f-353d-4adf-a226-da2b08f17128"
      },
      "outputs": [
        {
          "name": "stdout",
          "output_type": "stream",
          "text": [
            "('january', 'febrauary', 'march', 'april', 'may', 'June')\n",
            "<class 'tuple'>\n"
          ]
        }
      ],
      "source": [
        "a=\"january\",\"febrauary\",\"march\",\"april\",\"may\",\"June\"\n",
        "print(a)\n",
        "print(type(a))"
      ]
    },
    {
      "cell_type": "code",
      "execution_count": null,
      "id": "b6faaf70",
      "metadata": {
        "id": "b6faaf70",
        "outputId": "b9bf5683-78d3-415f-ae57-40326b89868a"
      },
      "outputs": [
        {
          "name": "stdout",
          "output_type": "stream",
          "text": [
            "(5+2j)\n",
            "<class 'complex'>\n",
            "a\n",
            "<class 'str'>\n"
          ]
        }
      ],
      "source": [
        "a=5+2j\n",
        "print(a)\n",
        "print(type(a))\n",
        "b=\"a\"\n",
        "print(b)\n",
        "print(type(b))"
      ]
    },
    {
      "cell_type": "code",
      "execution_count": null,
      "id": "31c50263",
      "metadata": {
        "id": "31c50263"
      },
      "outputs": [],
      "source": [
        ""
      ]
    }
  ],
  "metadata": {
    "kernelspec": {
      "display_name": "Python 3 (ipykernel)",
      "language": "python",
      "name": "python3"
    },
    "language_info": {
      "codemirror_mode": {
        "name": "ipython",
        "version": 3
      },
      "file_extension": ".py",
      "mimetype": "text/x-python",
      "name": "python",
      "nbconvert_exporter": "python",
      "pygments_lexer": "ipython3",
      "version": "3.9.7"
    },
    "colab": {
      "name": "python exercise.ipynb",
      "provenance": [],
      "include_colab_link": true
    }
  },
  "nbformat": 4,
  "nbformat_minor": 5
}